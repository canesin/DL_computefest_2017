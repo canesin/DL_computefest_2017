{
 "cells": [
  {
   "cell_type": "markdown",
   "metadata": {},
   "source": [
    "# Exercise 2"
   ]
  },
  {
   "cell_type": "code",
   "execution_count": 1,
   "metadata": {
    "collapsed": false
   },
   "outputs": [
    {
     "name": "stdout",
     "output_type": "stream",
     "text": [
      "Extracting MNIST_data/train-images-idx3-ubyte.gz\n",
      "Extracting MNIST_data/train-labels-idx1-ubyte.gz\n",
      "Extracting MNIST_data/t10k-images-idx3-ubyte.gz\n",
      "Extracting MNIST_data/t10k-labels-idx1-ubyte.gz\n"
     ]
    }
   ],
   "source": [
    "from tensorflow.examples.tutorials.mnist import input_data\n",
    "mnist = input_data.read_data_sets(\"MNIST_data/\", one_hot=True)"
   ]
  },
  {
   "cell_type": "code",
   "execution_count": 2,
   "metadata": {
    "collapsed": false
   },
   "outputs": [
    {
     "name": "stdout",
     "output_type": "stream",
     "text": [
      "0.9695\n"
     ]
    }
   ],
   "source": [
    "import math\n",
    "import tensorflow as tf\n",
    "\n",
    "x = tf.placeholder(tf.float32, [None, 28 * 28], name='input_images')\n",
    "y_ = tf.placeholder(tf.float32, [None, 10], name='labels')\n",
    "drop_prob = tf.placeholder(tf.float32, name='drop_prob')\n",
    "\n",
    "tf.summary.image('input', tf.reshape(x, [-1, 28, 28, 1]))\n",
    "W1 = tf.Variable(tf.truncated_normal([28 * 28, 512], stddev=1 / math.sqrt(28 * 28)), name='L1_weights')\n",
    "b1 = tf.Variable(tf.constant(0.1, shape=[512]), name='L1_biases')\n",
    "h1 = tf.nn.relu(tf.matmul(x, W1) + b1, name='L1_ReLU')\n",
    "h1_drop = tf.nn.dropout(h1, 1.0 - drop_prob, name='L1_dropout')\n",
    "tf.summary.histogram('L1_weights', W1)\n",
    "\n",
    "W2 = tf.Variable(tf.truncated_normal([512, 256], stddev=1 / math.sqrt(512)), name='L2_weights')\n",
    "b2 = tf.Variable(tf.constant(0.1, shape=[256]), name='L2_biases')\n",
    "h2 = tf.nn.relu(tf.matmul(h1_drop, W2) + b2, name='L2_ReLU')\n",
    "h2_drop = tf.nn.dropout(h2, 1.0 - drop_prob, name='L2_dropout')\n",
    "tf.summary.histogram('L2_weights', W2)\n",
    "\n",
    "W3 = tf.Variable(tf.truncated_normal([256, 10], stddev=1 / math.sqrt(256)), name='L3_weights')\n",
    "b3 = tf.Variable(tf.constant(0.1, shape=[10]), name='L3_biases')\n",
    "logits = tf.matmul(h2_drop, W3) + b3\n",
    "y = tf.nn.softmax(logits, name='softmax')\n",
    "tf.summary.histogram('L3_weights', W3)\n",
    "tf.summary.histogram('logits', logits)\n",
    "tf.summary.histogram('output', y)\n",
    "\n",
    "cross_entropy = tf.reduce_mean(-tf.reduce_sum(y_ * tf.log(y), axis=1), name='cross_entropy')\n",
    "train_step = tf.train.GradientDescentOptimizer(0.5).minimize(cross_entropy)\n",
    "tf.summary.scalar('loss', cross_entropy)\n",
    "\n",
    "correct_prediction = tf.equal(tf.argmax(y, 1), tf.argmax(y_, 1), name='correct_prediction')\n",
    "accuracy = tf.reduce_mean(tf.cast(correct_prediction, tf.float32), name='train_accuracy')\n",
    "tf.summary.scalar('accuracy', accuracy)\n",
    "\n",
    "init = tf.global_variables_initializer()\n",
    "sess = tf.InteractiveSession()\n",
    "merged_summaries = tf.summary.merge_all()\n",
    "summary_writer = tf.summary.FileWriter('./summary/dropout', sess.graph)\n",
    "sess.run(init)\n",
    "for i in range(1000):\n",
    "    batch_xs, batch_ys = mnist.train.next_batch(100)\n",
    "    _, summary = sess.run([train_step, merged_summaries], feed_dict={x: batch_xs, y_: batch_ys, drop_prob: 0.4})\n",
    "    summary_writer.add_summary(summary, i)\n",
    "\n",
    "print(sess.run(accuracy, feed_dict={x: mnist.test.images, y_: mnist.test.labels, drop_prob: 0.0}))"
   ]
  },
  {
   "cell_type": "code",
   "execution_count": null,
   "metadata": {
    "collapsed": true
   },
   "outputs": [],
   "source": []
  }
 ],
 "metadata": {
  "kernelspec": {
   "display_name": "Python 2",
   "language": "python",
   "name": "python2"
  },
  "language_info": {
   "codemirror_mode": {
    "name": "ipython",
    "version": 2
   },
   "file_extension": ".py",
   "mimetype": "text/x-python",
   "name": "python",
   "nbconvert_exporter": "python",
   "pygments_lexer": "ipython2",
   "version": "2.7.12"
  }
 },
 "nbformat": 4,
 "nbformat_minor": 1
}
