{
 "cells": [
  {
   "cell_type": "markdown",
   "metadata": {},
   "source": [
    "# Dataset enrichment\n",
    "\n",
    "In this notebook we use some tensorflow utilities to enrich our training set. This comes in handy when the dataset available is small, and it is a good way to prevent overfitting. Even variations almost imperceptible to humans, may be huge in terms of pixel values, and may be useful to make the network generalize better.\n",
    "\n",
    "We use the CIFAR-10 dataset, that contains real world images in 10 classes. Here we only use a smaller number of classes and data, because to see results on the whole dataset requires a lot of training time.\n"
   ]
  },
  {
   "cell_type": "code",
   "execution_count": 1,
   "metadata": {
    "collapsed": true
   },
   "outputs": [],
   "source": [
    "import tensorflow as tf\n",
    "\n",
    "def conv_weights(filters_size, channels_size, name):\n",
    "    shape = filters_size + channels_size\n",
    "    return tf.Variable(tf.truncated_normal(shape, stddev=0.1), name=name)\n",
    "\n",
    "def conv(x, W, stride, name):\n",
    "    strides_shape = [1, stride, stride, 1]\n",
    "    return tf.nn.conv2d(x, W, strides_shape, padding='SAME', name=name)\n",
    "\n",
    "def pool(x, size, stride, name):\n",
    "    pool_shape = [1] + size + [1]\n",
    "    strides_shape = [1, stride, stride, 1]\n",
    "    return tf.nn.max_pool(x, pool_shape, strides_shape, padding='SAME', name=name)"
   ]
  },
  {
   "cell_type": "code",
   "execution_count": 2,
   "metadata": {
    "collapsed": false
   },
   "outputs": [],
   "source": [
    "%matplotlib inline\n",
    "import matplotlib.pyplot as plt\n",
    "import tensorflow as tf\n",
    "import numpy as np\n",
    "import math\n",
    "import os\n",
    "import cifar10\n",
    "from cifar10 import  num_channels\n",
    "num_classes=2\n",
    "img_size = 32\n",
    "img_size_cropped = 28"
   ]
  },
  {
   "cell_type": "code",
   "execution_count": 3,
   "metadata": {
    "collapsed": false
   },
   "outputs": [
    {
     "name": "stdout",
     "output_type": "stream",
     "text": [
      "Data has apparently already been downloaded and unpacked.\n"
     ]
    }
   ],
   "source": [
    "cifar10.maybe_download_and_extract()"
   ]
  },
  {
   "cell_type": "code",
   "execution_count": 4,
   "metadata": {
    "collapsed": false
   },
   "outputs": [
    {
     "name": "stdout",
     "output_type": "stream",
     "text": [
      "Loading data: data/CIFAR-10/cifar-10-batches-py/batches.meta\n"
     ]
    },
    {
     "data": {
      "text/plain": [
       "['airplane',\n",
       " 'automobile',\n",
       " 'bird',\n",
       " 'cat',\n",
       " 'deer',\n",
       " 'dog',\n",
       " 'frog',\n",
       " 'horse',\n",
       " 'ship',\n",
       " 'truck']"
      ]
     },
     "execution_count": 4,
     "metadata": {},
     "output_type": "execute_result"
    }
   ],
   "source": [
    "class_names = cifar10.load_class_names()\n",
    "class_names"
   ]
  },
  {
   "cell_type": "code",
   "execution_count": 5,
   "metadata": {
    "collapsed": true
   },
   "outputs": [],
   "source": [
    "def plot_images(images, cls_true, cls_pred=None, smooth=True):\n",
    "\n",
    "    assert len(images) == len(cls_true) == 9\n",
    "\n",
    "    # Create figure with sub-plots.\n",
    "    fig, axes = plt.subplots(3, 3)\n",
    "\n",
    "    # Adjust vertical spacing if we need to print ensemble and best-net.\n",
    "    if cls_pred is None:\n",
    "        hspace = 0.3\n",
    "    else:\n",
    "        hspace = 0.6\n",
    "    fig.subplots_adjust(hspace=hspace, wspace=0.3)\n",
    "\n",
    "    for i, ax in enumerate(axes.flat):\n",
    "        # Interpolation type.\n",
    "        if smooth:\n",
    "            interpolation = 'spline16'\n",
    "        else:\n",
    "            interpolation = 'nearest'\n",
    "\n",
    "        # Plot image.\n",
    "        ax.imshow(images[i, :, :, :],\n",
    "                  interpolation=interpolation)\n",
    "            \n",
    "        # Name of the true class.\n",
    "        cls_true_name = class_names[cls_true[i]]\n",
    "\n",
    "        # Show true and predicted classes.\n",
    "        if cls_pred is None:\n",
    "            xlabel = \"True: {0}\".format(cls_true_name)\n",
    "        else:\n",
    "            # Name of the predicted class.\n",
    "            cls_pred_name = class_names[cls_pred[i]]\n",
    "\n",
    "            xlabel = \"True: {0}\\nPred: {1}\".format(cls_true_name, cls_pred_name)\n",
    "\n",
    "        # Show the classes as the label on the x-axis.\n",
    "        ax.set_xlabel(xlabel)\n",
    "        \n",
    "        # Remove ticks from the plot.\n",
    "        ax.set_xticks([])\n",
    "        ax.set_yticks([])\n",
    "    \n",
    "    # Ensure the plot is shown correctly with multiple plots\n",
    "    # in a single Notebook cell.\n",
    "    plt.show()"
   ]
  },
  {
   "cell_type": "code",
   "execution_count": 6,
   "metadata": {
    "collapsed": false
   },
   "outputs": [
    {
     "name": "stdout",
     "output_type": "stream",
     "text": [
      "Loading data: data/CIFAR-10/cifar-10-batches-py/data_batch_1\n",
      "Loading data: data/CIFAR-10/cifar-10-batches-py/data_batch_2\n",
      "Loading data: data/CIFAR-10/cifar-10-batches-py/data_batch_3\n",
      "Loading data: data/CIFAR-10/cifar-10-batches-py/data_batch_4\n",
      "Loading data: data/CIFAR-10/cifar-10-batches-py/data_batch_5\n",
      "Loading data: data/CIFAR-10/cifar-10-batches-py/test_batch\n",
      "Size of:\n",
      "- Training-set:\t\t10000\n",
      "- Test-set:\t\t2000\n",
      "(10000, 32, 32, 3)\n",
      "(10000,)\n",
      "(10000, 10)\n",
      "(10000, 2)\n",
      "[[ 0.  1.]\n",
      " [ 0.  1.]\n",
      " [ 1.  0.]\n",
      " ..., \n",
      " [ 1.  0.]\n",
      " [ 0.  1.]\n",
      " [ 0.  1.]]\n"
     ]
    },
    {
     "name": "stderr",
     "output_type": "stream",
     "text": [
      "/home/giovanni/.local/lib/python3.5/site-packages/ipykernel/__main__.py:17: VisibleDeprecationWarning: using a non-integer number instead of an integer will result in an error in the future\n",
      "/home/giovanni/.local/lib/python3.5/site-packages/ipykernel/__main__.py:18: VisibleDeprecationWarning: using a non-integer number instead of an integer will result in an error in the future\n"
     ]
    }
   ],
   "source": [
    "upper_b = (len(class_names)-num_classes)\n",
    "images_train, cls_train, labels_train = cifar10.load_training_data()\n",
    "train_size= len(cls_train)\n",
    "images_train, cls_train, labels_train = images_train[cls_train<num_classes], cls_train[cls_train<num_classes], labels_train[cls_train<num_classes]\n",
    "images_test, cls_test, labels_test = cifar10.load_test_data()\n",
    "test_size= len(cls_test)\n",
    "images_test, cls_test, labels_test = images_test[cls_test<num_classes], cls_test[cls_test<num_classes], labels_test[cls_test<num_classes]\n",
    "print(\"Size of:\")\n",
    "print(\"- Training-set:\\t\\t{}\".format(len(images_train)))\n",
    "print(\"- Test-set:\\t\\t{}\".format(len(images_test)))\n",
    "\n",
    "train_batch_size= 128\n",
    "print (images_train.shape)\n",
    "print (cls_train.shape)\n",
    "print (labels_train.shape)\n",
    "\n",
    "labels_train =  labels_train[0:train_size*num_classes/10,0:-upper_b]\n",
    "labels_test =  labels_test[0:test_size*num_classes/10,0:-upper_b]\n",
    "\n",
    "print (labels_train.shape)\n",
    "print (labels_train)"
   ]
  },
  {
   "cell_type": "code",
   "execution_count": 7,
   "metadata": {
    "collapsed": false
   },
   "outputs": [
    {
     "data": {
      "image/png": "[encoded data removed]",
      "text/plain": [
       "<matplotlib.figure.Figure at 0x7f82fe964400>"
      ]
     },
     "metadata": {},
     "output_type": "display_data"
    }
   ],
   "source": [
    "# Get the first images from the test-set.\n",
    "images = images_test[0:9]\n",
    "\n",
    "# Get the true classes for those images.\n",
    "cls_true = cls_test[0:9]\n",
    "\n",
    "# Plot the images and labels using our helper-function above.\n",
    "plot_images(images=images, cls_true=cls_true, smooth=False)\n"
   ]
  },
  {
   "cell_type": "markdown",
   "metadata": {},
   "source": [
    "Here we load the CIFAR-10 and we filter out only the number of classes that we want.\n"
   ]
  },
  {
   "cell_type": "code",
   "execution_count": 8,
   "metadata": {
    "collapsed": true
   },
   "outputs": [],
   "source": [
    "def pre_process_image(image):\n",
    "    image = tf.random_crop(image, size=[img_size_cropped, img_size_cropped, num_channels])\n",
    "    image = tf.image.random_flip_left_right(image)\n",
    "    image = tf.image.random_hue(image, max_delta=0.5)\n",
    "    image = tf.image.random_contrast(image, lower=0.03, upper=10.0)\n",
    "    image = tf.image.random_brightness(image, max_delta=2)\n",
    "    image = tf.image.random_saturation(image, lower=0.0, upper=20.0)\n",
    "    #Some of these functions may produce an output value beyond the [0,1] range of an image\n",
    "    #To prevent this effect, we limit the range \n",
    "    image = tf.minimum(image, 1.0)\n",
    "    image = tf.maximum(image, 0.0)\n",
    "    return image"
   ]
  },
  {
   "cell_type": "code",
   "execution_count": 9,
   "metadata": {
    "collapsed": true
   },
   "outputs": [],
   "source": [
    "def resize_util(image):\n",
    "    image = tf.image.resize_image_with_crop_or_pad(image,\n",
    "                                                   target_height=img_size_cropped,\n",
    "                                                   target_width=img_size_cropped)\n",
    "    image = tf.cast(image, tf.float32)\n",
    "    return image"
   ]
  },
  {
   "cell_type": "code",
   "execution_count": 10,
   "metadata": {
    "collapsed": true
   },
   "outputs": [],
   "source": [
    "def pre_process(images):\n",
    "    images = tf.map_fn(lambda image: pre_process_image(image), images)\n",
    "    return images"
   ]
  },
  {
   "cell_type": "code",
   "execution_count": 11,
   "metadata": {
    "collapsed": true
   },
   "outputs": [],
   "source": [
    "def resize(images):\n",
    "    # Use TensorFlow to loop over all the input images and call\n",
    "    # the function above which takes a single image as input.\n",
    "    images = tf.map_fn(lambda image: resize_util(image), images)\n",
    "    return images"
   ]
  },
  {
   "cell_type": "markdown",
   "metadata": {},
   "source": [
    "Here we define the functions to modify the training images. Notice that all these functions work on tensor, so they are part of the computational graph and will be runned only during the tensorflow session. This may looks a bit counterintuitive, with respect to first preprocess data, and then use them to feed the computational graph."
   ]
  },
  {
   "cell_type": "code",
   "execution_count": 12,
   "metadata": {
    "collapsed": false
   },
   "outputs": [],
   "source": [
    "def random_batch(size, training= True):\n",
    "    if training == True:\n",
    "        num_images = len(images_train)\n",
    "    else:\n",
    "        num_images = len(images_test)\n",
    "        \n",
    "    # Create a random index.\n",
    "    idx = np.random.choice(num_images,\n",
    "                           size=size,\n",
    "                           replace=False)\n",
    "    # Use the random index to select random images and labels.\n",
    "    if training == True:\n",
    "        x_batch = images_train[idx, :, :, :]\n",
    "        y_batch = labels_train[idx, :]\n",
    "    else:\n",
    "        x_batch = images_test[idx, :, :, :]\n",
    "        y_batch = labels_test[idx, :]\n",
    "        \n",
    "    return x_batch.astype(np.float32), y_batch.astype(np.float32)"
   ]
  },
  {
   "cell_type": "markdown",
   "metadata": {},
   "source": [
    "Here we define a function to feed the computational graph with the unpreprocessed data."
   ]
  },
  {
   "cell_type": "code",
   "execution_count": 13,
   "metadata": {
    "collapsed": false
   },
   "outputs": [],
   "source": [
    "import math\n",
    "BATCH_SIZE = 100\n",
    "LEARNING_RATE = 0.0005 \n",
    "ITERATIONS = 400\n",
    "\n",
    "input_ =tf.placeholder(tf.float32,[None, 32, 32, 3], name='input_images')\n",
    "input_images = pre_process(images=input_)\n",
    "y_ = tf.placeholder(tf.float32, [None, 2], name='labels')\n",
    "drop_prob = tf.placeholder(tf.float32, name='drop_prob')\n",
    "\n",
    "W1 = conv_weights([7, 7], [3, 32], 'L1_weights')\n",
    "b1 = tf.Variable(tf.constant(0.1, shape=[32]), name='L1_biases')\n",
    "c1 = conv(input_images, W1, stride=1, name='L1_conv')\n",
    "h1 = tf.nn.relu(tf.nn.bias_add(c1, b1), name='L1_ReLU')\n",
    "p1 = pool(h1, size=[2, 2], stride=2, name='L1_pool')\n",
    "\n",
    "tf.summary.image('input', input_images)\n",
    "tf.summary.histogram('L1_weights', W1)\n",
    " \n",
    "W2 = conv_weights([7,7], [32, 64], 'L2_weights')\n",
    "b2 = tf.Variable(tf.constant(0.1, shape=[64]), name='L2_biases')\n",
    "c2 = conv(p1, W2, stride=1, name='L2_conv')\n",
    "h2 = tf.nn.relu(tf.nn.bias_add(c2, b2), name='L2_ReLU')\n",
    "p2 = pool(h2, size=[2, 2], stride=2, name='L2_pool')\n",
    "\n",
    "tf.summary.histogram('L2_weights', W2)\n",
    "\n",
    "W3 = tf.Variable(tf.truncated_normal([7 * 7 * 64, 1024], stddev=1 / math.sqrt(7 * 7 * 64)), name='L3_weights')\n",
    "b3 = tf.Variable(tf.constant(0.1, shape=[1024]), name='L3_biases')\n",
    "p2_flat = tf.reshape(p2, [-1, 7 * 7 * 64])\n",
    "h3 = tf.nn.relu(tf.matmul(p2_flat, W3) + b3)\n",
    "h3_drop = tf.nn.dropout(h3, 1.0 - drop_prob, name='L3_dropout')\n",
    "\n",
    "tf.summary.histogram('L3_weights', W3)\n",
    "\n",
    "W4 = tf.Variable(tf.truncated_normal([1024, 2], stddev=1 / math.sqrt(1024)), name='L4_weights')\n",
    "b4 = tf.Variable(tf.constant(0.1, shape=[2]), name='L4_biases')\n",
    "y = tf.matmul(h3_drop, W4) + b4\n",
    "\n",
    "tf.summary.histogram('L4_weights', W4)\n",
    "tf.summary.histogram('logits', y)\n",
    "\n",
    "cross_entropy = tf.reduce_mean(tf.nn.softmax_cross_entropy_with_logits(y, y_), name='cross_entropy')\n",
    "train_step = tf.train.AdamOptimizer(LEARNING_RATE).minimize(cross_entropy)\n",
    "tf.summary.scalar('loss', cross_entropy)\n",
    "\n",
    "correct_prediction = tf.equal(tf.argmax(y, 1), tf.argmax(y_, 1), name='correct_prediction')\n",
    "accuracy = tf.reduce_mean(tf.cast(correct_prediction, tf.float32), name='train_accuracy')\n",
    "tf.summary.scalar('accuracy', accuracy)\n",
    "\n",
    "init = tf.global_variables_initializer()\n",
    "sess = tf.InteractiveSession()\n",
    "merged_summaries = tf.summary.merge_all()\n",
    "summary_writer = tf.summary.FileWriter('./summary/ex1', sess.graph)\n",
    "sess.run(init)\n"
   ]
  },
  {
   "cell_type": "code",
   "execution_count": null,
   "metadata": {
    "collapsed": false
   },
   "outputs": [
    {
     "name": "stdout",
     "output_type": "stream",
     "text": [
      "0/400. training accuracy = 0.59\n",
      "50/400. training accuracy = 0.68\n",
      "100/400. training accuracy = 0.74\n",
      "150/400. training accuracy = 0.75\n",
      "200/400. training accuracy = 0.67\n",
      "250/400. training accuracy = 0.80\n"
     ]
    }
   ],
   "source": [
    "for i in range(ITERATIONS):\n",
    "    \n",
    "    batch_xs, batch_ys = random_batch(BATCH_SIZE, training= True)\n",
    "    \n",
    "    _, summary = sess.run([train_step, merged_summaries], feed_dict={input_: batch_xs, y_: batch_ys, drop_prob: np.float32(0.5)})\n",
    "    summary_writer.add_summary(summary, i)\n",
    "    \n",
    "    if i % 50 == 0:\n",
    "        acc = sess.run(accuracy, feed_dict={input_: batch_xs, y_: batch_ys, drop_prob: np.float32(0.0)})\n",
    "        print('%d/%d. training accuracy = %.2f' % (i, ITERATIONS, acc))\n",
    "\n",
    "        \n",
    "batch_xs_test, batch_ys_test = random_batch(len(images_test), training= False)\n",
    "        \n",
    "test_acc = sess.run(accuracy, feed_dict={input_: batch_xs_test, y_: batch_ys_test,drop_prob: np.float32(0.0)})\n",
    "print('test accuracy = %.2f' % test_acc)"
   ]
  }
 ],
 "metadata": {
  "anaconda-cloud": {},
  "kernelspec": {
   "display_name": "Python [default]",
   "language": "python",
   "name": "python3"
  },
  "language_info": {
   "codemirror_mode": {
    "name": "ipython",
    "version": 3
   },
   "file_extension": ".py",
   "mimetype": "text/x-python",
   "name": "python",
   "nbconvert_exporter": "python",
   "pygments_lexer": "ipython3",
   "version": "3.5.2"
  }
 },
 "nbformat": 4,
 "nbformat_minor": 2
}
