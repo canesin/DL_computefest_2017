{
 "cells": [
  {
   "cell_type": "markdown",
   "metadata": {},
   "source": [
    "# Exercise 1\n",
    "\n",
    "Let's build a convolutional neural network designed as follows:\n",
    "- Convolutional layer with 32 3x3 filters, stride equal to 1 and 2x2 2-strided pool and ReLU activation\n",
    "- Convolutional layer with 64 3x3 filters, stride equal to 1 and 2x2 2-strided pool and ReLU activation\n",
    "- Fully-connected layer with 1024 neurons, with ReLU activation with dropout (keep_prob equal to 0.5)\n",
    "- Fully-connected layer with 10 neurons, with softmax activation\n",
    "\n",
    "Use GradientDescentOptimizer with learning rate equal to 0.1 for 100 iterations, and a batch size equal to 100."
   ]
  },
  {
   "cell_type": "code",
   "execution_count": 1,
   "metadata": {
    "collapsed": true
   },
   "outputs": [],
   "source": [
    "import tensorflow as tf\n",
    "\n",
    "def conv_weights(filters_size, channels_size, name):\n",
    "    shape = filters_size + channels_size\n",
    "    return tf.Variable(tf.truncated_normal(shape, stddev=0.1), name=name)\n",
    "\n",
    "def conv(x, W, stride, name):\n",
    "    strides_shape = [1, stride, stride, 1]\n",
    "    return tf.nn.conv2d(x, W, strides_shape, padding='SAME', name=name)\n",
    "\n",
    "def pool(x, size, stride, name):\n",
    "    pool_shape = [1] + size + [1]\n",
    "    strides_shape = [1, stride, stride, 1]\n",
    "    return tf.nn.max_pool(x, pool_shape, strides_shape, padding='SAME', name=name)"
   ]
  },
  {
   "cell_type": "code",
   "execution_count": 2,
   "metadata": {
    "collapsed": false
   },
   "outputs": [
    {
     "name": "stdout",
     "output_type": "stream",
     "text": [
      "Extracting MNIST_data/train-images-idx3-ubyte.gz\n",
      "Extracting MNIST_data/train-labels-idx1-ubyte.gz\n",
      "Extracting MNIST_data/t10k-images-idx3-ubyte.gz\n",
      "Extracting MNIST_data/t10k-labels-idx1-ubyte.gz\n"
     ]
    }
   ],
   "source": [
    "from tensorflow.examples.tutorials.mnist import input_data\n",
    "mnist = input_data.read_data_sets(\"MNIST_data/\", one_hot=True)"
   ]
  },
  {
   "cell_type": "code",
   "execution_count": 3,
   "metadata": {
    "collapsed": false
   },
   "outputs": [],
   "source": [
    "import math\n",
    "\n",
    "BATCH_SIZE = 100\n",
    "LEARNING_RATE = 0.0005 # BEST: GD Optimizer with lambda=0.5\n",
    "ITERATIONS = 1000\n",
    "\n",
    "x = tf.placeholder(tf.float32, [None, 28 * 28], name='input_images')\n",
    "y_ = tf.placeholder(tf.float32, [None, 10], name='labels')\n",
    "drop_prob = tf.placeholder(tf.float32, name='drop_prob')\n",
    "\n",
    "input_images = tf.reshape(x, [-1, 28, 28, 1])\n",
    "W1 = conv_weights([3, 3], [1, 32], 'L1_weights')\n",
    "b1 = tf.Variable(tf.constant(0.1, shape=[32]), name='L1_biases')\n",
    "c1 = conv(input_images, W1, stride=1, name='L1_conv')\n",
    "h1 = tf.nn.relu(tf.nn.bias_add(c1, b1), name='L1_ReLU')\n",
    "p1 = pool(h1, size=[2, 2], stride=2, name='L1_pool')\n",
    "\n",
    "tf.summary.image('input', input_images)\n",
    "tf.summary.histogram('L1_weights', W1)\n",
    "\n",
    "W2 = conv_weights([3, 3], [32, 64], 'L2_weights')\n",
    "b2 = tf.Variable(tf.constant(0.1, shape=[64]), name='L2_biases')\n",
    "c2 = conv(p1, W2, stride=1, name='L2_conv')\n",
    "h2 = tf.nn.relu(tf.nn.bias_add(c2, b2), name='L2_ReLU')\n",
    "p2 = pool(h2, size=[2, 2], stride=2, name='L2_pool')\n",
    "\n",
    "tf.summary.histogram('L2_weights', W2)\n",
    "\n",
    "W3 = tf.Variable(tf.truncated_normal([7 * 7 * 64, 1024], stddev=1 / math.sqrt(7 * 7 * 64)), name='L3_weights')\n",
    "b3 = tf.Variable(tf.constant(0.1, shape=[1024]), name='L3_biases')\n",
    "p2_flat = tf.reshape(p2, [-1, 7 * 7 * 64])\n",
    "h3 = tf.nn.relu(tf.matmul(p2_flat, W3) + b3)\n",
    "h3_drop = tf.nn.dropout(h3, 1.0 - drop_prob, name='L3_dropout')\n",
    "\n",
    "tf.summary.histogram('L3_weights', W3)\n",
    "\n",
    "W4 = tf.Variable(tf.truncated_normal([1024, 10], stddev=1 / math.sqrt(1024)), name='L4_weights')\n",
    "b4 = tf.Variable(tf.constant(0.1, shape=[10]), name='L4_biases')\n",
    "y = tf.matmul(h3_drop, W4) + b4\n",
    "\n",
    "tf.summary.histogram('L4_weights', W4)\n",
    "tf.summary.histogram('logits', y)\n",
    "\n",
    "cross_entropy = tf.reduce_mean(tf.nn.softmax_cross_entropy_with_logits(y, y_), name='cross_entropy')\n",
    "train_step = tf.train.AdamOptimizer(LEARNING_RATE).minimize(cross_entropy)\n",
    "tf.summary.scalar('loss', cross_entropy)\n",
    "\n",
    "correct_prediction = tf.equal(tf.argmax(y, 1), tf.argmax(y_, 1), name='correct_prediction')\n",
    "accuracy = tf.reduce_mean(tf.cast(correct_prediction, tf.float32), name='train_accuracy')\n",
    "tf.summary.scalar('accuracy', accuracy)\n",
    "\n",
    "init = tf.global_variables_initializer()\n",
    "sess = tf.InteractiveSession()\n",
    "merged_summaries = tf.summary.merge_all()\n",
    "summary_writer = tf.summary.FileWriter('./summary/ex1', sess.graph)\n",
    "sess.run(init)"
   ]
  },
  {
   "cell_type": "code",
   "execution_count": null,
   "metadata": {
    "collapsed": false
   },
   "outputs": [
    {
     "name": "stdout",
     "output_type": "stream",
     "text": [
      "0/1000. training accuracy = 0.27\n",
      "100/1000. training accuracy = 0.93\n",
      "200/1000. training accuracy = 0.96\n",
      "300/1000. training accuracy = 0.97\n"
     ]
    }
   ],
   "source": [
    "for i in range(ITERATIONS):\n",
    "    batch_xs, batch_ys = mnist.train.next_batch(BATCH_SIZE)\n",
    "    _, summary = sess.run([train_step, merged_summaries], feed_dict={x: batch_xs, y_: batch_ys, drop_prob: 0.5})\n",
    "    summary_writer.add_summary(summary, i)\n",
    "    \n",
    "    if i % 100 == 0:\n",
    "        acc = sess.run(accuracy, feed_dict={x: batch_xs, y_: batch_ys, drop_prob: 0.0})\n",
    "        print('%d/%d. training accuracy = %.2f' % (i, ITERATIONS, acc))\n",
    "\n",
    "test_acc = sess.run(accuracy, feed_dict={x: mnist.test.images, y_: mnist.test.labels, drop_prob: 0.0})\n",
    "print('test accuracy = %.2f' % test_acc)"
   ]
  },
  {
   "cell_type": "code",
   "execution_count": null,
   "metadata": {
    "collapsed": false
   },
   "outputs": [],
   "source": [
    "sess.close()"
   ]
  },
  {
   "cell_type": "code",
   "execution_count": null,
   "metadata": {
    "collapsed": true
   },
   "outputs": [],
   "source": []
  }
 ],
 "metadata": {
  "anaconda-cloud": {},
  "kernelspec": {
   "display_name": "Python [default]",
   "language": "python",
   "name": "python3"
  },
  "language_info": {
   "codemirror_mode": {
    "name": "ipython",
    "version": 3
   },
   "file_extension": ".py",
   "mimetype": "text/x-python",
   "name": "python",
   "nbconvert_exporter": "python",
   "pygments_lexer": "ipython3",
   "version": "3.5.2"
  }
 },
 "nbformat": 4,
 "nbformat_minor": 1
}
