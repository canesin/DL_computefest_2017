{
 "cells": [
  {
   "cell_type": "markdown",
   "metadata": {},
   "source": [
    "# Convolutional Neural Networks\n",
    "\n",
    "Let's adapt the model we've built yesterday with convolutional layers instead of fully connected ones.\n",
    "\n",
    "## Recap\n",
    "\n",
    "As a first simple model, we have implemented a neural network performing softmax regression, which is a straightforward way to do classification. It looked like this:\n",
    "\n",
    "![alt text](images/softmax-regression-scalargraph.png \"Softmax Regression graph\")\n",
    "\n",
    "Then, we expanded the model to include a hidden layer, and tried to look at our model from a _flowing tensors_ perspective.\n",
    "\n",
    "![alt text](images/fc.png \"The flow of tensors\")"
   ]
  },
  {
   "cell_type": "code",
   "execution_count": 1,
   "metadata": {
    "collapsed": false,
    "scrolled": true
   },
   "outputs": [
    {
     "name": "stdout",
     "output_type": "stream",
     "text": [
      "Successfully downloaded train-images-idx3-ubyte.gz 9912422 bytes.\n",
      "Extracting MNIST_data/train-images-idx3-ubyte.gz\n",
      "Successfully downloaded train-labels-idx1-ubyte.gz 28881 bytes.\n",
      "Extracting MNIST_data/train-labels-idx1-ubyte.gz\n",
      "Successfully downloaded t10k-images-idx3-ubyte.gz 1648877 bytes.\n",
      "Extracting MNIST_data/t10k-images-idx3-ubyte.gz\n",
      "Successfully downloaded t10k-labels-idx1-ubyte.gz 4542 bytes.\n",
      "Extracting MNIST_data/t10k-labels-idx1-ubyte.gz\n"
     ]
    }
   ],
   "source": [
    "from tensorflow.examples.tutorials.mnist import input_data\n",
    "mnist = input_data.read_data_sets(\"MNIST_data/\", one_hot=True)\n",
    "%matplotlib inline\n",
    "import matplotlib.pyplot as plt\n",
    "import math\n",
    "import numpy as np \n",
    "\n",
    "BATCH_SIZE = 100"
   ]
  },
  {
   "cell_type": "code",
   "execution_count": 2,
   "metadata": {
    "collapsed": true
   },
   "outputs": [],
   "source": [
    "image1 = mnist.test.images[0]"
   ]
  },
  {
   "cell_type": "code",
   "execution_count": 3,
   "metadata": {
    "collapsed": false
   },
   "outputs": [
    {
     "data": {
      "text/plain": [
       "<matplotlib.image.AxesImage at 0x7f62b632c898>"
      ]
     },
     "execution_count": 3,
     "metadata": {},
     "output_type": "execute_result"
    },
    {
     "data": {
      "image/png": "[encoded data removed]",
      "text/plain": [
       "<matplotlib.figure.Figure at 0x7f62b951b048>"
      ]
     },
     "metadata": {},
     "output_type": "display_data"
    }
   ],
   "source": [
    "image_plot = np.reshape(image1, [28, 28])\n",
    "\n",
    "%matplotlib inline\n",
    "import matplotlib.pyplot as plt\n",
    "\n",
    "plt.imshow(image_plot, cmap='gray')"
   ]
  },
  {
   "cell_type": "code",
   "execution_count": 4,
   "metadata": {
    "collapsed": true
   },
   "outputs": [],
   "source": [
    "import tensorflow as tf\n",
    "import numpy as np\n",
    "def conv_weights(filters_size, channels_size, name):\n",
    "    shape = filters_size + channels_size\n",
    "    return tf.Variable(tf.truncated_normal(shape, stddev=0.1), name=name)\n",
    "\n",
    "def conv(x, W, stride, name):\n",
    "    strides_shape = [1, stride, stride, 1]\n",
    "    return tf.nn.conv2d(x, W, strides_shape, padding='SAME', name=name)\n",
    "\n",
    "def pool(x, size, stride, name):\n",
    "    pool_shape = [1] + size + [1]\n",
    "    strides_shape = [1, stride, stride, 1]\n",
    "    return tf.nn.max_pool(x, pool_shape, strides_shape, padding='SAME', name=name)"
   ]
  },
  {
   "cell_type": "markdown",
   "metadata": {},
   "source": [
    "TensorFlow `conv2d` function requires the weights to be structured in a 4D tensor with dimension `[filter_width, filter_height, channel_in, channel_out]`, where:\n",
    "\n",
    "- `filter_width` and `filter_height` represent the dimension of our convolutional filters\n",
    "- `channel_in` represents the input channel size, be it 1 of grayscale, 3 for RGB, or any other number\n",
    "- `channel_out` can be seen as the number of filters we are applying to our input, or as the number of feature maps we'll generate as output\n",
    "\n",
    "`conv2d` also requires the input to be a 4D tensor with dimension `[batch_size, input_height, input_width, channel_in]`.\n",
    "\n",
    "The strides vector required by `conv2d` is a 4-integer list, mapping each stride to each input dimension (`[batch_size, input_height, input_width, channel_in]`). Since the stride makes sense only when applied to the height and weight of your input, not to the batch or channel dimensions, it will (almost?) always found as `[1, stride, stride, 1]`.\n",
    "\n",
    "![alt text](images/convolution.png \"Convolution\")"
   ]
  },
  {
   "cell_type": "markdown",
   "metadata": {},
   "source": [
    "As usual, we define a placeholder for the variables that we will dynamically feed during the computation. \n",
    "These are the input images, that we will pass in form of batches of images (according to the stochastic gradient descent technique), and their relative labels. \n",
    "Notice that at first the shape of each image is unidimensional, the 28 * 28 = 784 pixels are taken as a single vector when defining x. \n",
    "But then we need to reshape them into a bidimensional matrix. That's because convolutional neural network are based on squared filters, that move onto a squared matrix.\n",
    "The -1 reshape parameter tells that the the batch_size remains unchanged during the reshaping, while the last parameter says that the input channel is 1. It would have been 3, for instance, for RGB images."
   ]
  },
  {
   "cell_type": "code",
   "execution_count": 5,
   "metadata": {
    "collapsed": false
   },
   "outputs": [],
   "source": [
    "x = tf.placeholder(tf.float32, [None, 28 * 28], name='input_images')\n",
    "y_ = tf.placeholder(tf.float32, [None, 10], name='labels')\n",
    "input_images = tf.reshape(x, [-1, 28, 28, 1])"
   ]
  },
  {
   "cell_type": "markdown",
   "metadata": {},
   "source": [
    "Let's create the first layer of our network. We choose a quite small filter size (`3 * 3`) , since the problem is relatively easy. \n",
    "As a rule of thumb for harder problems, more hidden layers with smaller filter size perform equally or better than less hidden layers with bigger filter size. This becuase the combination of smaller filters is able to cover patterns which are larger  than the dimension of the filters themselves. \n",
    "As always, we give a name to each step of the computation graph. This is useful for some tasks, like saving/retrieving a specific part of the network.\n",
    "Notice that both convolution and maxpooling has a stride of 2, so for each step there is a reduction of a factor of 2 in the image size, from (`28 * 28`) to (`14 * 14`) and then (`7 * 7`). Meanwhile, the number of channels switch from 1 to 32. This explain the dimensionality of the right side of the next layer.\n",
    "\n",
    "In addition to the convolutional operations, here we introduce a maxpool layer and a ReLu layer. "
   ]
  },
  {
   "cell_type": "code",
   "execution_count": 6,
   "metadata": {
    "collapsed": false
   },
   "outputs": [
    {
     "data": {
      "text/plain": [
       "<tf.Tensor 'L1_weights_1:0' shape=() dtype=string>"
      ]
     },
     "execution_count": 6,
     "metadata": {},
     "output_type": "execute_result"
    }
   ],
   "source": [
    "W1 = conv_weights([3, 3], [1, 32], 'L1_weights')\n",
    "b1 = tf.Variable(tf.constant(0.1, shape=[32]), name='L1_biases')\n",
    "c1 = conv(input_images, W1, stride=2, name='L1_conv')\n",
    "h1 = tf.nn.relu(tf.nn.bias_add(c1, b1), name='L1_ReLU')\n",
    "p1 = pool(h1, size=[2, 2], stride=2, name='L1_pool')\n",
    "\n",
    "tf.summary.image('input', input_images)\n",
    "tf.summary.histogram('L1_weights', W1)\n"
   ]
  },
  {
   "cell_type": "code",
   "execution_count": 7,
   "metadata": {
    "collapsed": true
   },
   "outputs": [],
   "source": [
    "W2 = tf.Variable(tf.truncated_normal([7 * 7 * 32, 10], stddev=1 / math.sqrt(7 * 7 * 32)), name='L2_weights')\n",
    "b2 = tf.Variable(tf.constant(0.1, shape=[10]), name='L2_biases')\n",
    "p1_flat = tf.reshape(p1, [-1, 7 * 7 * 32])"
   ]
  },
  {
   "cell_type": "code",
   "execution_count": 8,
   "metadata": {
    "collapsed": false
   },
   "outputs": [
    {
     "data": {
      "text/plain": [
       "<tf.Tensor 'output:0' shape=() dtype=string>"
      ]
     },
     "execution_count": 8,
     "metadata": {},
     "output_type": "execute_result"
    }
   ],
   "source": [
    "logits = tf.matmul(p1_flat, W2) + b2\n",
    "y = tf.nn.softmax(logits, name='softmax')\n",
    "\n",
    "tf.summary.histogram('L2_weights', W2)\n",
    "tf.summary.histogram('logits', logits)\n",
    "tf.summary.histogram('output', y)"
   ]
  },
  {
   "cell_type": "code",
   "execution_count": 9,
   "metadata": {
    "collapsed": true
   },
   "outputs": [],
   "source": [
    "cross_entropy = tf.reduce_mean(-tf.reduce_sum(y_ * tf.log(y), reduction_indices=[1]), name='cross_entropy')\n",
    "train_step = tf.train.GradientDescentOptimizer(0.5).minimize(cross_entropy)\n",
    "tf.summary.scalar('loss', cross_entropy)\n",
    "\n",
    "correct_prediction = tf.equal(tf.argmax(y, 1), tf.argmax(y_, 1), name='correct_prediction')\n",
    "accuracy = tf.reduce_mean(tf.cast(correct_prediction, tf.float32), name='train_accuracy')\n",
    "tf.summary.scalar('accuracy', accuracy)\n",
    "\n",
    "init = tf.global_variables_initializer()\n",
    "sess = tf.InteractiveSession()\n",
    "merged_summaries = tf.summary.merge_all()\n",
    "summary_writer = tf.summary.FileWriter('./summary/conv', sess.graph)\n",
    "sess.run(init)\n"
   ]
  },
  {
   "cell_type": "code",
   "execution_count": 10,
   "metadata": {
    "collapsed": false
   },
   "outputs": [
    {
     "name": "stdout",
     "output_type": "stream",
     "text": [
      "0.9716\n"
     ]
    }
   ],
   "source": [
    "for i in range(1000):\n",
    "    batch_xs, batch_ys = mnist.train.next_batch(BATCH_SIZE)\n",
    "    _, summary = sess.run([train_step, merged_summaries], feed_dict={x: batch_xs, y_: batch_ys})\n",
    "    summary_writer.add_summary(summary, i)\n",
    "\n",
    "print(sess.run(accuracy, feed_dict={x: mnist.test.images, y_: mnist.test.labels}))"
   ]
  },
  {
   "cell_type": "code",
   "execution_count": 11,
   "metadata": {
    "collapsed": true
   },
   "outputs": [],
   "source": [
    "def plot_conv_weights(weights, input_channel=0):\n",
    "    # Assume weights are TensorFlow ops for 4-dim variables\n",
    "    # e.g. weights_conv1 or weights_conv2.\n",
    "    \n",
    "    # Retrieve the values of the weight-variables from TensorFlow.\n",
    "    # A feed-dict is not necessary because nothing is calculated.\n",
    "    w = sess.run(weights)\n",
    "\n",
    "    # Get the lowest and highest values for the weights.\n",
    "    # This is used to correct the colour intensity across\n",
    "    # the images so they can be compared with each other.\n",
    "    w_min = np.min(w)\n",
    "    w_max = np.max(w)\n",
    "\n",
    "    # Number of filters used in the conv. layer.\n",
    "    num_filters = w.shape[3]\n",
    "\n",
    "    # Number of grids to plot.\n",
    "    # Rounded-up, square-root of the number of filters.\n",
    "    num_grids = math.ceil(math.sqrt(num_filters))\n",
    "    \n",
    "    # Create figure with a grid of sub-plots.\n",
    "    fig, axes = plt.subplots(num_grids, num_grids)\n",
    "\n",
    "    # Plot all the filter-weights.\n",
    "    for i, ax in enumerate(axes.flat):\n",
    "        # Only plot the valid filter-weights.\n",
    "        if i<num_filters:\n",
    "            # Get the weights for the i'th filter of the input channel.\n",
    "            # See new_conv_layer() for details on the format\n",
    "            # of this 4-dim tensor.\n",
    "            img = w[:, :, input_channel, i]\n",
    "\n",
    "            # Plot image.\n",
    "            ax.imshow(img, vmin=w_min, vmax=w_max,\n",
    "                      interpolation='nearest', cmap='binary')\n",
    "        \n",
    "        # Remove ticks from the plot.\n",
    "        ax.set_xticks([])\n",
    "        ax.set_yticks([])\n",
    "    \n",
    "    # Ensure the plot is shown correctly with multiple plots\n",
    "    # in a single Notebook cell.\n",
    "    plt.show()"
   ]
  },
  {
   "cell_type": "code",
   "execution_count": 12,
   "metadata": {
    "collapsed": true
   },
   "outputs": [],
   "source": [
    "def plot_conv_layer(layer, image):\n",
    "    # Assume layer is a TensorFlow op that outputs a 4-dim tensor\n",
    "    # which is the output of a convolutional layer,\n",
    "    # e.g. layer_conv1 or layer_conv2.\n",
    "\n",
    "    # Create a feed-dict containing just one image.\n",
    "    # Note that we don't need to feed y_true because it is\n",
    "    # not used in this calculation.\n",
    "    feed_dict = {x: [image]}\n",
    "\n",
    "    # Calculate and retrieve the output values of the layer\n",
    "    # when inputting that image.\n",
    "    values = sess.run(layer, feed_dict=feed_dict)\n",
    "\n",
    "    # Number of filters used in the conv. layer.\n",
    "    num_filters = values.shape[3]\n",
    "\n",
    "    # Number of grids to plot.\n",
    "    # Rounded-up, square-root of the number of filters.\n",
    "    num_grids = math.ceil(math.sqrt(num_filters))\n",
    "    \n",
    "    # Create figure with a grid of sub-plots.\n",
    "    fig, axes = plt.subplots(num_grids, num_grids)\n",
    "\n",
    "    # Plot the output images of all the filters.\n",
    "    for i, ax in enumerate(axes.flat):\n",
    "        # Only plot the images for valid filters.\n",
    "        if i<num_filters:\n",
    "            # Get the output image of using the i'th filter.\n",
    "            # See new_conv_layer() for details on the format\n",
    "            # of this 4-dim tensor.\n",
    "            img = values[0, :, :, i]\n",
    "\n",
    "            # Plot image.\n",
    "            ax.imshow(img, interpolation='nearest', cmap='binary')\n",
    "        \n",
    "        # Remove ticks from the plot.\n",
    "        ax.set_xticks([])\n",
    "        ax.set_yticks([])\n",
    "    \n",
    "    # Ensure the plot is shown correctly with multiple plots\n",
    "    # in a single Notebook cell.\n",
    "    plt.show()"
   ]
  },
  {
   "cell_type": "code",
   "execution_count": 13,
   "metadata": {
    "collapsed": false
   },
   "outputs": [
    {
     "data": {
      "image/png": "[encoded data removed]",
      "text/plain": [
       "<matplotlib.figure.Figure at 0x7f62b5168c88>"
      ]
     },
     "metadata": {},
     "output_type": "display_data"
    }
   ],
   "source": [
    "plot_conv_weights(weights=W1)"
   ]
  },
  {
   "cell_type": "code",
   "execution_count": 14,
   "metadata": {
    "collapsed": false
   },
   "outputs": [
    {
     "data": {
      "image/png": "[encoded data removed]",
      "text/plain": [
       "<matplotlib.figure.Figure at 0x7f62b666f8d0>"
      ]
     },
     "metadata": {},
     "output_type": "display_data"
    }
   ],
   "source": [
    "plot_conv_layer(layer=c1, image=image1)\n"
   ]
  },
  {
   "cell_type": "code",
   "execution_count": 15,
   "metadata": {
    "collapsed": true
   },
   "outputs": [],
   "source": [
    "sess.close()"
   ]
  },
  {
   "cell_type": "markdown",
   "metadata": {},
   "source": [
    "# Exercise 1\n",
    "\n",
    "Let's build a convolutional neural network designed as follows:\n",
    "- Convolutional layer with 32 3x3 filters, stride equal to 1 and 2x2 2-strided pool and ReLU activation\n",
    "- Convolutional layer with 64 3x3 filters, stride equal to 1 and 2x2 2-strided pool and ReLU activation\n",
    "- Fully-connected layer with 1024 neurons, with ReLU activation with dropout (keep_prob equal to 0.5)\n",
    "- Fully-connected layer with 10 neurons, with softmax activation\n",
    "\n",
    "Use GradientDescentOptimizer with learning rate equal to 0.1 for 100 iterations, and a batch size equal to 100."
   ]
  }
 ],
 "metadata": {
  "anaconda-cloud": {},
  "kernelspec": {
   "display_name": "Python [default]",
   "language": "python",
   "name": "python3"
  },
  "language_info": {
   "codemirror_mode": {
    "name": "ipython",
    "version": 3
   },
   "file_extension": ".py",
   "mimetype": "text/x-python",
   "name": "python",
   "nbconvert_exporter": "python",
   "pygments_lexer": "ipython3",
   "version": "3.5.2"
  }
 },
 "nbformat": 4,
 "nbformat_minor": 1
}
